{
 "cells": [
  {
   "cell_type": "code",
   "execution_count": null,
   "metadata": {
    "collapsed": true,
    "slideshow": {
     "slide_type": "notes"
    }
   },
   "outputs": [],
   "source": [
    "# To run this notebook as a reveal.js presentation, run the following command in notebook's folder:\n",
    "# `jupyter-nbconvert --to slides 1-python-in-one-hour-or-so.ipynb --reveal-prefix=reveal.js --post serve`"
   ]
  },
  {
   "cell_type": "markdown",
   "metadata": {
    "slideshow": {
     "slide_type": "slide"
    }
   },
   "source": [
    "# EMERGING TECHNOLOGIES\n",
    "# CHALLENGES & OPPORTUNITIES"
   ]
  },
  {
   "cell_type": "markdown",
   "metadata": {
    "slideshow": {
     "slide_type": "slide"
    }
   },
   "source": [
    "# CHAPTER 1 ► GARTNER'S HYPE CYCLE 2017"
   ]
  },
  {
   "cell_type": "markdown",
   "metadata": {
    "slideshow": {
     "slide_type": "subslide"
    }
   },
   "source": [
    "Reference: https://goo.gl/bstq8e\n",
    "\n",
    "![img/hype-cycle-gartner.png](img/hype-cycle-gartner.png)"
   ]
  },
  {
   "cell_type": "markdown",
   "metadata": {
    "slideshow": {
     "slide_type": "subslide"
    }
   },
   "source": [
    "## Key takeaways:\n",
    "\n",
    "* **Heavy R&D spending from Amazon, Apple, Baidu, Google, IBM, Microsoft, and Facebook is fueling a race for Deep Learning and Machine Learning patents today and will accelerate in the future**\n",
    "\n",
    "* **Artificial General Intelligence is going to become pervasive during the next decade, becoming the foundation of AI as a Service**"
   ]
  },
  {
   "cell_type": "markdown",
   "metadata": {
    "slideshow": {
     "slide_type": "slide"
    }
   },
   "source": [
    "# CHAPTER 2 ► WHAT IS BIG DATA?"
   ]
  },
  {
   "cell_type": "markdown",
   "metadata": {
    "slideshow": {
     "slide_type": "subslide"
    }
   },
   "source": [
    "## Everybody has their own opinion ! So will give mine!"
   ]
  },
  {
   "cell_type": "markdown",
   "metadata": {
    "slideshow": {
     "slide_type": "subslide"
    }
   },
   "source": [
    "## The more or less conventional definition, the 5 Vs:\n",
    "\n",
    "* **VOLUME**\n",
    "\n",
    "* **VELOCITY**\n",
    "\n",
    "* **VARIETY**\n",
    "\n",
    "* **VERACITY**\n",
    "\n",
    "* **VALUE**\n",
    "\n",
    "Some add **Variability** and **Visualization**... Why not?"
   ]
  },
  {
   "cell_type": "markdown",
   "metadata": {
    "slideshow": {
     "slide_type": "subslide"
    }
   },
   "source": [
    "## BIG is a very relative notion!\n",
    "\n",
    "![img/big-is-relative.png](img/big-is-relative.png)\n",
    "Source: https://www.wired.com/2011/01/jumbo-shrimps-why-mega-mammals-still-looked-puny-next-to-the-biggest-dinosaurs/"
   ]
  },
  {
   "cell_type": "markdown",
   "metadata": {
    "slideshow": {
     "slide_type": "subslide"
    }
   },
   "source": [
    "## What I can not handle with my available toolbox is Big Data! `[Personal view]` \n",
    "\n",
    "* **Have you tried to open a `csv` file containing 10 million rows in Excel?**\n",
    "\n",
    "* **Have you tried to visualize 72 million measurements on Google Earth?**"
   ]
  },
  {
   "cell_type": "markdown",
   "metadata": {
    "slideshow": {
     "slide_type": "subslide"
    }
   },
   "source": [
    "## The example of SAFECAST DATA VISUALIZATION \n",
    "\n",
    "![img/safecast-web.png](img/safecast-web.png)\n",
    "https://blog.safecast.org/"
   ]
  },
  {
   "cell_type": "markdown",
   "metadata": {
    "slideshow": {
     "slide_type": "subslide"
    }
   },
   "source": [
    "## Mapping 72 million measurements at once\n",
    "\n",
    "* **ATTEMPT 1 ► FAILURE! - Not enough RAM and not appropriate tool ► THIS IS BIG DATA FOR ME!**\n",
    "\n",
    "* **ATTEMPT 2 ► SUCCESS! - Bought 16 Gb of RAM and used recent https://datashader.readthedocs.io Python package**"
   ]
  },
  {
   "cell_type": "markdown",
   "metadata": {
    "slideshow": {
     "slide_type": "subslide"
    }
   },
   "source": [
    "## With the right toolbox, takes 3s to render 72 million of points [MacBook Pro with 16 Gb RAM]"
   ]
  },
  {
   "cell_type": "markdown",
   "metadata": {
    "slideshow": {
     "slide_type": "fragment"
    }
   },
   "source": [
    "```python\n",
    "def draw_map(df, plot_width, plot_height, colors, agg_func, interp, background_col):\n",
    "    cvs = ds.Canvas(plot_width=plot_width, plot_height=plot_height)\n",
    "    agg = cvs.points(df, 'lon', 'lat',  agg_func('value'))\n",
    "    img = tf.shade(agg, cmap=colors, how=interp)\n",
    "    return tf.set_background(img, color=background_col)\n",
    "\n",
    "img = draw_map(df, plot_width, plot_height, inferno, ds.count, 'log', 'black')\n",
    "```"
   ]
  },
  {
   "cell_type": "markdown",
   "metadata": {
    "slideshow": {
     "slide_type": "subslide"
    }
   },
   "source": [
    "![img/safecast-map.png](img/safecast-map.png)"
   ]
  },
  {
   "cell_type": "markdown",
   "metadata": {
    "slideshow": {
     "slide_type": "slide"
    }
   },
   "source": [
    "# CHAPTER 3 ► BIG DATA INFRASTRUCTURE & FRAMEWORKS"
   ]
  },
  {
   "cell_type": "markdown",
   "metadata": {
    "slideshow": {
     "slide_type": "subslide"
    }
   },
   "source": [
    "## Batch vs. stream vs hybrid processing frameworks\n",
    "\n",
    "* **Batch-only processing: Apache Hadoop**\n",
    "\n",
    "* **Stream-only frameworks: Apache Storm, Apache Samza**\n",
    "\n",
    "* **Hybrid frameworks: Apache Spark, Apache Flink**\n",
    "\n",
    "Reference: https://www.digitalocean.com/community/tutorials/hadoop-storm-samza-spark-and-flink-big-data-frameworks-compared\n",
    "\n",
    "Note: There is a Master in HPC at ICTP: http://www.mhpc.it/"
   ]
  },
  {
   "cell_type": "markdown",
   "metadata": {
    "slideshow": {
     "slide_type": "subslide"
    }
   },
   "source": [
    "## Cloud computing in Africa - ISOC's update?"
   ]
  },
  {
   "cell_type": "markdown",
   "metadata": {
    "slideshow": {
     "slide_type": "subslide"
    }
   },
   "source": [
    "## Google cloud regions\n",
    "\n",
    "![img/google-cloud-regions.png](img/google-cloud-regions.png)"
   ]
  },
  {
   "cell_type": "markdown",
   "metadata": {
    "slideshow": {
     "slide_type": "subslide"
    }
   },
   "source": [
    "## Amazon Web Services cloud regions\n",
    "![img/amazon-regions.png](img/amazon-regions.png)"
   ]
  },
  {
   "cell_type": "markdown",
   "metadata": {
    "slideshow": {
     "slide_type": "subslide"
    }
   },
   "source": [
    "## Microsoft Azure regions\n",
    "\n",
    "![img/microsoft-azure.png](img/microsoft-azure.png)\n",
    "\n",
    "## ... "
   ]
  },
  {
   "cell_type": "markdown",
   "metadata": {
    "slideshow": {
     "slide_type": "subslide"
    }
   },
   "source": [
    "## Is Africa a forgotten continent?\n",
    "\n",
    "## If that's the case, might change very soon!"
   ]
  },
  {
   "cell_type": "markdown",
   "metadata": {
    "slideshow": {
     "slide_type": "subslide"
    }
   },
   "source": [
    "## What about Cloud computing and Iot?\n",
    "\n",
    "**Every cloud computing platforms targets the market and propose a dedicated offer** - for instance: https://goo.gl/zAR3KT"
   ]
  },
  {
   "cell_type": "markdown",
   "metadata": {
    "slideshow": {
     "slide_type": "slide"
    }
   },
   "source": [
    "# CHAPTER 4 ► WHEN AND WHY DO WE NEED SUCH VOLUME OF DATA?"
   ]
  },
  {
   "cell_type": "code",
   "execution_count": null,
   "metadata": {
    "collapsed": true
   },
   "outputs": [],
   "source": [
    "... "
   ]
  }
 ],
 "metadata": {
  "celltoolbar": "Slideshow",
  "kernelspec": {
   "display_name": "Python [conda root]",
   "language": "python",
   "name": "conda-root-py"
  },
  "language_info": {
   "codemirror_mode": {
    "name": "ipython",
    "version": 3
   },
   "file_extension": ".py",
   "mimetype": "text/x-python",
   "name": "python",
   "nbconvert_exporter": "python",
   "pygments_lexer": "ipython3",
   "version": "3.6.0"
  }
 },
 "nbformat": 4,
 "nbformat_minor": 2
}
