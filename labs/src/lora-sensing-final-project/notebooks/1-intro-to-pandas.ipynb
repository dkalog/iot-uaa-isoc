{
 "cells": [
  {
   "cell_type": "markdown",
   "metadata": {},
   "source": [
    "## I. INTRODUCTION TO PANDAS"
   ]
  },
  {
   "cell_type": "code",
   "execution_count": 84,
   "metadata": {
    "collapsed": true
   },
   "outputs": [],
   "source": [
    "import matplotlib.pyplot as plt\n",
    "import datetime\n",
    "import json\n",
    "import requests\n",
    "import pandas as pd\n",
    "\n",
    "# This ensures visualizations are plotted inside the notebook\n",
    "%matplotlib inline\n",
    "\n",
    "plt.rcParams['figure.figsize'] = (16, 8)"
   ]
  },
  {
   "cell_type": "markdown",
   "metadata": {
    "collapsed": true
   },
   "source": [
    "## 1. Importing a `.csv` file"
   ]
  },
  {
   "cell_type": "markdown",
   "metadata": {},
   "source": [
    "In this first chapter, we provide a static `.csv` file to get familiarized with `Pandas` http://pandas.pydata.org/ Python Data Analysis library. We first use the `read_csv` method without any optional arguments to see what we get."
   ]
  },
  {
   "cell_type": "code",
   "execution_count": 85,
   "metadata": {
    "collapsed": false
   },
   "outputs": [
    {
     "data": {
      "text/html": [
       "<div>\n",
       "<table border=\"1\" class=\"dataframe\">\n",
       "  <thead>\n",
       "    <tr style=\"text-align: right;\">\n",
       "      <th></th>\n",
       "      <th>2017/08/07 15:59:01</th>\n",
       "      <th>1</th>\n",
       "      <th>11</th>\n",
       "      <th>-67</th>\n",
       "      <th>19.9</th>\n",
       "      <th>50</th>\n",
       "      <th>7</th>\n",
       "      <th>70b3d5499904775c</th>\n",
       "      <th>25.10</th>\n",
       "      <th>65.1</th>\n",
       "      <th>Monitoring station A</th>\n",
       "    </tr>\n",
       "  </thead>\n",
       "  <tbody>\n",
       "    <tr>\n",
       "      <th>0</th>\n",
       "      <td>2017/08/07 15:59:04</td>\n",
       "      <td>1</td>\n",
       "      <td>12</td>\n",
       "      <td>-64</td>\n",
       "      <td>-2.0</td>\n",
       "      <td>50</td>\n",
       "      <td>8</td>\n",
       "      <td>70b3d5499904775c</td>\n",
       "      <td>25.13</td>\n",
       "      <td>65.0</td>\n",
       "      <td>Monitoring station A</td>\n",
       "    </tr>\n",
       "    <tr>\n",
       "      <th>1</th>\n",
       "      <td>2017/08/07 15:59:07</td>\n",
       "      <td>1</td>\n",
       "      <td>12</td>\n",
       "      <td>-68</td>\n",
       "      <td>0.2</td>\n",
       "      <td>50</td>\n",
       "      <td>9</td>\n",
       "      <td>70b3d5499904775c</td>\n",
       "      <td>25.19</td>\n",
       "      <td>64.8</td>\n",
       "      <td>Monitoring station A</td>\n",
       "    </tr>\n",
       "    <tr>\n",
       "      <th>2</th>\n",
       "      <td>2017/08/07 15:59:14</td>\n",
       "      <td>1</td>\n",
       "      <td>12</td>\n",
       "      <td>-70</td>\n",
       "      <td>0.4</td>\n",
       "      <td>51</td>\n",
       "      <td>11</td>\n",
       "      <td>70b3d5499904775c</td>\n",
       "      <td>25.46</td>\n",
       "      <td>68.4</td>\n",
       "      <td>Monitoring station A</td>\n",
       "    </tr>\n",
       "    <tr>\n",
       "      <th>3</th>\n",
       "      <td>2017/08/07 15:59:17</td>\n",
       "      <td>1</td>\n",
       "      <td>11</td>\n",
       "      <td>-70</td>\n",
       "      <td>0.4</td>\n",
       "      <td>51</td>\n",
       "      <td>12</td>\n",
       "      <td>70b3d5499904775c</td>\n",
       "      <td>25.60</td>\n",
       "      <td>71.9</td>\n",
       "      <td>Monitoring station A</td>\n",
       "    </tr>\n",
       "    <tr>\n",
       "      <th>4</th>\n",
       "      <td>2017/08/07 15:59:20</td>\n",
       "      <td>1</td>\n",
       "      <td>11</td>\n",
       "      <td>-70</td>\n",
       "      <td>0.4</td>\n",
       "      <td>51</td>\n",
       "      <td>13</td>\n",
       "      <td>70b3d5499904775c</td>\n",
       "      <td>25.74</td>\n",
       "      <td>75.6</td>\n",
       "      <td>Monitoring station A</td>\n",
       "    </tr>\n",
       "  </tbody>\n",
       "</table>\n",
       "</div>"
      ],
      "text/plain": [
       "   2017/08/07 15:59:01  1  11  -67  19.9  50   7  70b3d5499904775c  25.10  \\\n",
       "0  2017/08/07 15:59:04  1  12  -64  -2.0  50   8  70b3d5499904775c  25.13   \n",
       "1  2017/08/07 15:59:07  1  12  -68   0.2  50   9  70b3d5499904775c  25.19   \n",
       "2  2017/08/07 15:59:14  1  12  -70   0.4  51  11  70b3d5499904775c  25.46   \n",
       "3  2017/08/07 15:59:17  1  11  -70   0.4  51  12  70b3d5499904775c  25.60   \n",
       "4  2017/08/07 15:59:20  1  11  -70   0.4  51  13  70b3d5499904775c  25.74   \n",
       "\n",
       "   65.1  Monitoring station A  \n",
       "0  65.0  Monitoring station A  \n",
       "1  64.8  Monitoring station A  \n",
       "2  68.4  Monitoring station A  \n",
       "3  71.9  Monitoring station A  \n",
       "4  75.6  Monitoring station A  "
      ]
     },
     "execution_count": 85,
     "metadata": {},
     "output_type": "execute_result"
    }
   ],
   "source": [
    "df = pd.read_csv('data/data.csv')\n",
    "\n",
    "df.head() # Display the 5 first rows"
   ]
  },
  {
   "cell_type": "code",
   "execution_count": 86,
   "metadata": {
    "collapsed": false
   },
   "outputs": [
    {
     "data": {
      "text/plain": [
       "pandas.core.frame.DataFrame"
      ]
     },
     "execution_count": 86,
     "metadata": {},
     "output_type": "execute_result"
    }
   ],
   "source": [
    "# Let's check the data type of df object\n",
    "type(df)"
   ]
  },
  {
   "cell_type": "markdown",
   "metadata": {},
   "source": [
    "`DataFrame` data type is key in `Pandas` and offers many useful possibilities."
   ]
  },
  {
   "cell_type": "code",
   "execution_count": 87,
   "metadata": {
    "collapsed": true
   },
   "outputs": [],
   "source": [
    "# ******* YOUR TURN *******\n",
    "# Display the first 10 rows of the `df` data frame\n",
    "# Hint: https://pandas.pydata.org/pandas-docs/stable/generated/pandas.DataFrame.head.html\n",
    "\n",
    "## Enter your code below and press (shift+Enter) to evaluate\n",
    "\n"
   ]
  },
  {
   "cell_type": "markdown",
   "metadata": {},
   "source": [
    "To know the number of lines and columns, simply:"
   ]
  },
  {
   "cell_type": "code",
   "execution_count": 88,
   "metadata": {
    "collapsed": false
   },
   "outputs": [
    {
     "data": {
      "text/plain": [
       "(96, 11)"
      ]
     },
     "execution_count": 88,
     "metadata": {},
     "output_type": "execute_result"
    }
   ],
   "source": [
    "df.shape"
   ]
  },
  {
   "cell_type": "markdown",
   "metadata": {},
   "source": [
    "97 rows and 11 columns."
   ]
  },
  {
   "cell_type": "markdown",
   "metadata": {},
   "source": [
    "You might have noticed that we have no colum names and that the first row of our `data.csv` file has been interpreted as the column names. To solve it, we can explicitely specify these names."
   ]
  },
  {
   "cell_type": "code",
   "execution_count": 89,
   "metadata": {
    "collapsed": true
   },
   "outputs": [],
   "source": [
    "column_names = ['time', 'channel', 'snr', 'rssi',\n",
    "                'freq_error', 'bytes', 'packet_idx',\n",
    "                'lora_mac', 'temperature', 'humidity',\n",
    "                 'station_name']"
   ]
  },
  {
   "cell_type": "code",
   "execution_count": 90,
   "metadata": {
    "collapsed": false
   },
   "outputs": [
    {
     "data": {
      "text/html": [
       "<div>\n",
       "<table border=\"1\" class=\"dataframe\">\n",
       "  <thead>\n",
       "    <tr style=\"text-align: right;\">\n",
       "      <th></th>\n",
       "      <th>time</th>\n",
       "      <th>channel</th>\n",
       "      <th>snr</th>\n",
       "      <th>rssi</th>\n",
       "      <th>freq_error</th>\n",
       "      <th>bytes</th>\n",
       "      <th>packet_idx</th>\n",
       "      <th>lora_mac</th>\n",
       "      <th>temperature</th>\n",
       "      <th>humidity</th>\n",
       "      <th>station_name</th>\n",
       "    </tr>\n",
       "  </thead>\n",
       "  <tbody>\n",
       "    <tr>\n",
       "      <th>0</th>\n",
       "      <td>2017/08/07 15:59:01</td>\n",
       "      <td>1</td>\n",
       "      <td>11</td>\n",
       "      <td>-67</td>\n",
       "      <td>19.9</td>\n",
       "      <td>50</td>\n",
       "      <td>7</td>\n",
       "      <td>70b3d5499904775c</td>\n",
       "      <td>25.10</td>\n",
       "      <td>65.1</td>\n",
       "      <td>Monitoring station A</td>\n",
       "    </tr>\n",
       "    <tr>\n",
       "      <th>1</th>\n",
       "      <td>2017/08/07 15:59:04</td>\n",
       "      <td>1</td>\n",
       "      <td>12</td>\n",
       "      <td>-64</td>\n",
       "      <td>-2.0</td>\n",
       "      <td>50</td>\n",
       "      <td>8</td>\n",
       "      <td>70b3d5499904775c</td>\n",
       "      <td>25.13</td>\n",
       "      <td>65.0</td>\n",
       "      <td>Monitoring station A</td>\n",
       "    </tr>\n",
       "    <tr>\n",
       "      <th>2</th>\n",
       "      <td>2017/08/07 15:59:07</td>\n",
       "      <td>1</td>\n",
       "      <td>12</td>\n",
       "      <td>-68</td>\n",
       "      <td>0.2</td>\n",
       "      <td>50</td>\n",
       "      <td>9</td>\n",
       "      <td>70b3d5499904775c</td>\n",
       "      <td>25.19</td>\n",
       "      <td>64.8</td>\n",
       "      <td>Monitoring station A</td>\n",
       "    </tr>\n",
       "    <tr>\n",
       "      <th>3</th>\n",
       "      <td>2017/08/07 15:59:14</td>\n",
       "      <td>1</td>\n",
       "      <td>12</td>\n",
       "      <td>-70</td>\n",
       "      <td>0.4</td>\n",
       "      <td>51</td>\n",
       "      <td>11</td>\n",
       "      <td>70b3d5499904775c</td>\n",
       "      <td>25.46</td>\n",
       "      <td>68.4</td>\n",
       "      <td>Monitoring station A</td>\n",
       "    </tr>\n",
       "    <tr>\n",
       "      <th>4</th>\n",
       "      <td>2017/08/07 15:59:17</td>\n",
       "      <td>1</td>\n",
       "      <td>11</td>\n",
       "      <td>-70</td>\n",
       "      <td>0.4</td>\n",
       "      <td>51</td>\n",
       "      <td>12</td>\n",
       "      <td>70b3d5499904775c</td>\n",
       "      <td>25.60</td>\n",
       "      <td>71.9</td>\n",
       "      <td>Monitoring station A</td>\n",
       "    </tr>\n",
       "  </tbody>\n",
       "</table>\n",
       "</div>"
      ],
      "text/plain": [
       "                  time  channel  snr  rssi  freq_error  bytes  packet_idx  \\\n",
       "0  2017/08/07 15:59:01        1   11   -67        19.9     50           7   \n",
       "1  2017/08/07 15:59:04        1   12   -64        -2.0     50           8   \n",
       "2  2017/08/07 15:59:07        1   12   -68         0.2     50           9   \n",
       "3  2017/08/07 15:59:14        1   12   -70         0.4     51          11   \n",
       "4  2017/08/07 15:59:17        1   11   -70         0.4     51          12   \n",
       "\n",
       "           lora_mac  temperature  humidity          station_name  \n",
       "0  70b3d5499904775c        25.10      65.1  Monitoring station A  \n",
       "1  70b3d5499904775c        25.13      65.0  Monitoring station A  \n",
       "2  70b3d5499904775c        25.19      64.8  Monitoring station A  \n",
       "3  70b3d5499904775c        25.46      68.4  Monitoring station A  \n",
       "4  70b3d5499904775c        25.60      71.9  Monitoring station A  "
      ]
     },
     "execution_count": 90,
     "metadata": {},
     "output_type": "execute_result"
    }
   ],
   "source": [
    "df = pd.read_csv('data/data.csv', header=None, names=column_names)\n",
    "df.head()"
   ]
  },
  {
   "cell_type": "markdown",
   "metadata": {},
   "source": [
    "Take a look at the number of optional arguments that `.read_csv` method might receive: https://pandas.pydata.org/pandas-docs/stable/generated/pandas.read_csv.html"
   ]
  },
  {
   "cell_type": "markdown",
   "metadata": {},
   "source": [
    "## 2. Selecting a subset of a dataframe"
   ]
  },
  {
   "cell_type": "markdown",
   "metadata": {},
   "source": [
    "### Selection by label(s)"
   ]
  },
  {
   "cell_type": "code",
   "execution_count": 91,
   "metadata": {
    "collapsed": false
   },
   "outputs": [
    {
     "data": {
      "text/html": [
       "<div>\n",
       "<table border=\"1\" class=\"dataframe\">\n",
       "  <thead>\n",
       "    <tr style=\"text-align: right;\">\n",
       "      <th></th>\n",
       "      <th>time</th>\n",
       "      <th>temperature</th>\n",
       "    </tr>\n",
       "  </thead>\n",
       "  <tbody>\n",
       "    <tr>\n",
       "      <th>0</th>\n",
       "      <td>2017/08/07 15:59:01</td>\n",
       "      <td>25.10</td>\n",
       "    </tr>\n",
       "    <tr>\n",
       "      <th>1</th>\n",
       "      <td>2017/08/07 15:59:04</td>\n",
       "      <td>25.13</td>\n",
       "    </tr>\n",
       "    <tr>\n",
       "      <th>2</th>\n",
       "      <td>2017/08/07 15:59:07</td>\n",
       "      <td>25.19</td>\n",
       "    </tr>\n",
       "    <tr>\n",
       "      <th>3</th>\n",
       "      <td>2017/08/07 15:59:14</td>\n",
       "      <td>25.46</td>\n",
       "    </tr>\n",
       "    <tr>\n",
       "      <th>4</th>\n",
       "      <td>2017/08/07 15:59:17</td>\n",
       "      <td>25.60</td>\n",
       "    </tr>\n",
       "  </tbody>\n",
       "</table>\n",
       "</div>"
      ],
      "text/plain": [
       "                  time  temperature\n",
       "0  2017/08/07 15:59:01        25.10\n",
       "1  2017/08/07 15:59:04        25.13\n",
       "2  2017/08/07 15:59:07        25.19\n",
       "3  2017/08/07 15:59:14        25.46\n",
       "4  2017/08/07 15:59:17        25.60"
      ]
     },
     "execution_count": 91,
     "metadata": {},
     "output_type": "execute_result"
    }
   ],
   "source": [
    "# Selecting all rows and two columns ()\n",
    "df_selected = df.loc[:, ['time', 'temperature']]\n",
    "df_selected.head()"
   ]
  },
  {
   "cell_type": "code",
   "execution_count": 92,
   "metadata": {
    "collapsed": false
   },
   "outputs": [
    {
     "data": {
      "text/html": [
       "<div>\n",
       "<table border=\"1\" class=\"dataframe\">\n",
       "  <thead>\n",
       "    <tr style=\"text-align: right;\">\n",
       "      <th></th>\n",
       "      <th>lora_mac</th>\n",
       "      <th>temperature</th>\n",
       "      <th>humidity</th>\n",
       "    </tr>\n",
       "  </thead>\n",
       "  <tbody>\n",
       "    <tr>\n",
       "      <th>0</th>\n",
       "      <td>70b3d5499904775c</td>\n",
       "      <td>25.10</td>\n",
       "      <td>65.1</td>\n",
       "    </tr>\n",
       "    <tr>\n",
       "      <th>1</th>\n",
       "      <td>70b3d5499904775c</td>\n",
       "      <td>25.13</td>\n",
       "      <td>65.0</td>\n",
       "    </tr>\n",
       "    <tr>\n",
       "      <th>2</th>\n",
       "      <td>70b3d5499904775c</td>\n",
       "      <td>25.19</td>\n",
       "      <td>64.8</td>\n",
       "    </tr>\n",
       "    <tr>\n",
       "      <th>3</th>\n",
       "      <td>70b3d5499904775c</td>\n",
       "      <td>25.46</td>\n",
       "      <td>68.4</td>\n",
       "    </tr>\n",
       "    <tr>\n",
       "      <th>4</th>\n",
       "      <td>70b3d5499904775c</td>\n",
       "      <td>25.60</td>\n",
       "      <td>71.9</td>\n",
       "    </tr>\n",
       "  </tbody>\n",
       "</table>\n",
       "</div>"
      ],
      "text/plain": [
       "           lora_mac  temperature  humidity\n",
       "0  70b3d5499904775c        25.10      65.1\n",
       "1  70b3d5499904775c        25.13      65.0\n",
       "2  70b3d5499904775c        25.19      64.8\n",
       "3  70b3d5499904775c        25.46      68.4\n",
       "4  70b3d5499904775c        25.60      71.9"
      ]
     },
     "execution_count": 92,
     "metadata": {},
     "output_type": "execute_result"
    }
   ],
   "source": [
    "# Selecting all rows with column from X to Y\n",
    "df.loc[:, 'lora_mac':'humidity'].head()"
   ]
  },
  {
   "cell_type": "code",
   "execution_count": 93,
   "metadata": {
    "collapsed": false
   },
   "outputs": [
    {
     "data": {
      "text/html": [
       "<div>\n",
       "<table border=\"1\" class=\"dataframe\">\n",
       "  <thead>\n",
       "    <tr style=\"text-align: right;\">\n",
       "      <th></th>\n",
       "      <th>time</th>\n",
       "      <th>channel</th>\n",
       "      <th>snr</th>\n",
       "      <th>rssi</th>\n",
       "      <th>freq_error</th>\n",
       "      <th>bytes</th>\n",
       "      <th>packet_idx</th>\n",
       "      <th>lora_mac</th>\n",
       "      <th>temperature</th>\n",
       "      <th>humidity</th>\n",
       "      <th>station_name</th>\n",
       "    </tr>\n",
       "  </thead>\n",
       "  <tbody>\n",
       "    <tr>\n",
       "      <th>0</th>\n",
       "      <td>2017/08/07 15:59:01</td>\n",
       "      <td>1</td>\n",
       "      <td>11</td>\n",
       "      <td>-67</td>\n",
       "      <td>19.9</td>\n",
       "      <td>50</td>\n",
       "      <td>7</td>\n",
       "      <td>70b3d5499904775c</td>\n",
       "      <td>25.10</td>\n",
       "      <td>65.1</td>\n",
       "      <td>Monitoring station A</td>\n",
       "    </tr>\n",
       "    <tr>\n",
       "      <th>1</th>\n",
       "      <td>2017/08/07 15:59:04</td>\n",
       "      <td>1</td>\n",
       "      <td>12</td>\n",
       "      <td>-64</td>\n",
       "      <td>-2.0</td>\n",
       "      <td>50</td>\n",
       "      <td>8</td>\n",
       "      <td>70b3d5499904775c</td>\n",
       "      <td>25.13</td>\n",
       "      <td>65.0</td>\n",
       "      <td>Monitoring station A</td>\n",
       "    </tr>\n",
       "    <tr>\n",
       "      <th>2</th>\n",
       "      <td>2017/08/07 15:59:07</td>\n",
       "      <td>1</td>\n",
       "      <td>12</td>\n",
       "      <td>-68</td>\n",
       "      <td>0.2</td>\n",
       "      <td>50</td>\n",
       "      <td>9</td>\n",
       "      <td>70b3d5499904775c</td>\n",
       "      <td>25.19</td>\n",
       "      <td>64.8</td>\n",
       "      <td>Monitoring station A</td>\n",
       "    </tr>\n",
       "    <tr>\n",
       "      <th>3</th>\n",
       "      <td>2017/08/07 15:59:14</td>\n",
       "      <td>1</td>\n",
       "      <td>12</td>\n",
       "      <td>-70</td>\n",
       "      <td>0.4</td>\n",
       "      <td>51</td>\n",
       "      <td>11</td>\n",
       "      <td>70b3d5499904775c</td>\n",
       "      <td>25.46</td>\n",
       "      <td>68.4</td>\n",
       "      <td>Monitoring station A</td>\n",
       "    </tr>\n",
       "  </tbody>\n",
       "</table>\n",
       "</div>"
      ],
      "text/plain": [
       "                  time  channel  snr  rssi  freq_error  bytes  packet_idx  \\\n",
       "0  2017/08/07 15:59:01        1   11   -67        19.9     50           7   \n",
       "1  2017/08/07 15:59:04        1   12   -64        -2.0     50           8   \n",
       "2  2017/08/07 15:59:07        1   12   -68         0.2     50           9   \n",
       "3  2017/08/07 15:59:14        1   12   -70         0.4     51          11   \n",
       "\n",
       "           lora_mac  temperature  humidity          station_name  \n",
       "0  70b3d5499904775c        25.10      65.1  Monitoring station A  \n",
       "1  70b3d5499904775c        25.13      65.0  Monitoring station A  \n",
       "2  70b3d5499904775c        25.19      64.8  Monitoring station A  \n",
       "3  70b3d5499904775c        25.46      68.4  Monitoring station A  "
      ]
     },
     "execution_count": 93,
     "metadata": {},
     "output_type": "execute_result"
    }
   ],
   "source": [
    "# Selecting rows with index from 0 to 3 and all columns\n",
    "df.loc[0:3, :]"
   ]
  },
  {
   "cell_type": "markdown",
   "metadata": {},
   "source": [
    "### Selection by positions(s)"
   ]
  },
  {
   "cell_type": "code",
   "execution_count": 94,
   "metadata": {
    "collapsed": false
   },
   "outputs": [
    {
     "data": {
      "text/html": [
       "<div>\n",
       "<table border=\"1\" class=\"dataframe\">\n",
       "  <thead>\n",
       "    <tr style=\"text-align: right;\">\n",
       "      <th></th>\n",
       "      <th>lora_mac</th>\n",
       "      <th>temperature</th>\n",
       "      <th>station_name</th>\n",
       "    </tr>\n",
       "  </thead>\n",
       "  <tbody>\n",
       "    <tr>\n",
       "      <th>0</th>\n",
       "      <td>70b3d5499904775c</td>\n",
       "      <td>25.10</td>\n",
       "      <td>Monitoring station A</td>\n",
       "    </tr>\n",
       "    <tr>\n",
       "      <th>1</th>\n",
       "      <td>70b3d5499904775c</td>\n",
       "      <td>25.13</td>\n",
       "      <td>Monitoring station A</td>\n",
       "    </tr>\n",
       "    <tr>\n",
       "      <th>2</th>\n",
       "      <td>70b3d5499904775c</td>\n",
       "      <td>25.19</td>\n",
       "      <td>Monitoring station A</td>\n",
       "    </tr>\n",
       "    <tr>\n",
       "      <th>3</th>\n",
       "      <td>70b3d5499904775c</td>\n",
       "      <td>25.46</td>\n",
       "      <td>Monitoring station A</td>\n",
       "    </tr>\n",
       "    <tr>\n",
       "      <th>4</th>\n",
       "      <td>70b3d5499904775c</td>\n",
       "      <td>25.60</td>\n",
       "      <td>Monitoring station A</td>\n",
       "    </tr>\n",
       "  </tbody>\n",
       "</table>\n",
       "</div>"
      ],
      "text/plain": [
       "           lora_mac  temperature          station_name\n",
       "0  70b3d5499904775c        25.10  Monitoring station A\n",
       "1  70b3d5499904775c        25.13  Monitoring station A\n",
       "2  70b3d5499904775c        25.19  Monitoring station A\n",
       "3  70b3d5499904775c        25.46  Monitoring station A\n",
       "4  70b3d5499904775c        25.60  Monitoring station A"
      ]
     },
     "execution_count": 94,
     "metadata": {},
     "output_type": "execute_result"
    }
   ],
   "source": [
    "# Selecting columns at position 7, 8 and 10 (starts at 0)\n",
    "df.iloc[:, [7, 8, 10]].head()"
   ]
  },
  {
   "cell_type": "code",
   "execution_count": 95,
   "metadata": {
    "collapsed": true
   },
   "outputs": [],
   "source": [
    "# ******* YOUR TURN *******\n",
    "# Display the second and fourth row and first and third columns of the dataframe `df`\n",
    "# Hints: you can use the .iloc method\n",
    "\n",
    "## Enter your code below and press (shift+Enter) to evaluate\n"
   ]
  },
  {
   "cell_type": "markdown",
   "metadata": {},
   "source": [
    "### The joy of time indexing\n",
    "When dealing with time series, it is often convenient to select a subset of it (for instance all data from the same day or minutes, ...). Time indexing and selection helps."
   ]
  },
  {
   "cell_type": "code",
   "execution_count": 96,
   "metadata": {
    "collapsed": true
   },
   "outputs": [],
   "source": [
    "# Indexing will make plotting and time queries easier\n",
    "df.set_index(pd.DatetimeIndex(df['time']), inplace=True)"
   ]
  },
  {
   "cell_type": "code",
   "execution_count": 97,
   "metadata": {
    "collapsed": false
   },
   "outputs": [
    {
     "data": {
      "text/html": [
       "<div>\n",
       "<table border=\"1\" class=\"dataframe\">\n",
       "  <thead>\n",
       "    <tr style=\"text-align: right;\">\n",
       "      <th></th>\n",
       "      <th>time</th>\n",
       "      <th>channel</th>\n",
       "      <th>snr</th>\n",
       "      <th>rssi</th>\n",
       "      <th>freq_error</th>\n",
       "      <th>bytes</th>\n",
       "      <th>packet_idx</th>\n",
       "      <th>lora_mac</th>\n",
       "      <th>temperature</th>\n",
       "      <th>humidity</th>\n",
       "      <th>station_name</th>\n",
       "    </tr>\n",
       "    <tr>\n",
       "      <th>time</th>\n",
       "      <th></th>\n",
       "      <th></th>\n",
       "      <th></th>\n",
       "      <th></th>\n",
       "      <th></th>\n",
       "      <th></th>\n",
       "      <th></th>\n",
       "      <th></th>\n",
       "      <th></th>\n",
       "      <th></th>\n",
       "      <th></th>\n",
       "    </tr>\n",
       "  </thead>\n",
       "  <tbody>\n",
       "    <tr>\n",
       "      <th>2017-08-07 15:59:01</th>\n",
       "      <td>2017/08/07 15:59:01</td>\n",
       "      <td>1</td>\n",
       "      <td>11</td>\n",
       "      <td>-67</td>\n",
       "      <td>19.9</td>\n",
       "      <td>50</td>\n",
       "      <td>7</td>\n",
       "      <td>70b3d5499904775c</td>\n",
       "      <td>25.10</td>\n",
       "      <td>65.1</td>\n",
       "      <td>Monitoring station A</td>\n",
       "    </tr>\n",
       "    <tr>\n",
       "      <th>2017-08-07 15:59:04</th>\n",
       "      <td>2017/08/07 15:59:04</td>\n",
       "      <td>1</td>\n",
       "      <td>12</td>\n",
       "      <td>-64</td>\n",
       "      <td>-2.0</td>\n",
       "      <td>50</td>\n",
       "      <td>8</td>\n",
       "      <td>70b3d5499904775c</td>\n",
       "      <td>25.13</td>\n",
       "      <td>65.0</td>\n",
       "      <td>Monitoring station A</td>\n",
       "    </tr>\n",
       "    <tr>\n",
       "      <th>2017-08-07 15:59:07</th>\n",
       "      <td>2017/08/07 15:59:07</td>\n",
       "      <td>1</td>\n",
       "      <td>12</td>\n",
       "      <td>-68</td>\n",
       "      <td>0.2</td>\n",
       "      <td>50</td>\n",
       "      <td>9</td>\n",
       "      <td>70b3d5499904775c</td>\n",
       "      <td>25.19</td>\n",
       "      <td>64.8</td>\n",
       "      <td>Monitoring station A</td>\n",
       "    </tr>\n",
       "    <tr>\n",
       "      <th>2017-08-07 15:59:14</th>\n",
       "      <td>2017/08/07 15:59:14</td>\n",
       "      <td>1</td>\n",
       "      <td>12</td>\n",
       "      <td>-70</td>\n",
       "      <td>0.4</td>\n",
       "      <td>51</td>\n",
       "      <td>11</td>\n",
       "      <td>70b3d5499904775c</td>\n",
       "      <td>25.46</td>\n",
       "      <td>68.4</td>\n",
       "      <td>Monitoring station A</td>\n",
       "    </tr>\n",
       "    <tr>\n",
       "      <th>2017-08-07 15:59:17</th>\n",
       "      <td>2017/08/07 15:59:17</td>\n",
       "      <td>1</td>\n",
       "      <td>11</td>\n",
       "      <td>-70</td>\n",
       "      <td>0.4</td>\n",
       "      <td>51</td>\n",
       "      <td>12</td>\n",
       "      <td>70b3d5499904775c</td>\n",
       "      <td>25.60</td>\n",
       "      <td>71.9</td>\n",
       "      <td>Monitoring station A</td>\n",
       "    </tr>\n",
       "  </tbody>\n",
       "</table>\n",
       "</div>"
      ],
      "text/plain": [
       "                                    time  channel  snr  rssi  freq_error  \\\n",
       "time                                                                       \n",
       "2017-08-07 15:59:01  2017/08/07 15:59:01        1   11   -67        19.9   \n",
       "2017-08-07 15:59:04  2017/08/07 15:59:04        1   12   -64        -2.0   \n",
       "2017-08-07 15:59:07  2017/08/07 15:59:07        1   12   -68         0.2   \n",
       "2017-08-07 15:59:14  2017/08/07 15:59:14        1   12   -70         0.4   \n",
       "2017-08-07 15:59:17  2017/08/07 15:59:17        1   11   -70         0.4   \n",
       "\n",
       "                     bytes  packet_idx          lora_mac  temperature  \\\n",
       "time                                                                    \n",
       "2017-08-07 15:59:01     50           7  70b3d5499904775c        25.10   \n",
       "2017-08-07 15:59:04     50           8  70b3d5499904775c        25.13   \n",
       "2017-08-07 15:59:07     50           9  70b3d5499904775c        25.19   \n",
       "2017-08-07 15:59:14     51          11  70b3d5499904775c        25.46   \n",
       "2017-08-07 15:59:17     51          12  70b3d5499904775c        25.60   \n",
       "\n",
       "                     humidity          station_name  \n",
       "time                                                 \n",
       "2017-08-07 15:59:01      65.1  Monitoring station A  \n",
       "2017-08-07 15:59:04      65.0  Monitoring station A  \n",
       "2017-08-07 15:59:07      64.8  Monitoring station A  \n",
       "2017-08-07 15:59:14      68.4  Monitoring station A  \n",
       "2017-08-07 15:59:17      71.9  Monitoring station A  "
      ]
     },
     "execution_count": 97,
     "metadata": {},
     "output_type": "execute_result"
    }
   ],
   "source": [
    "df.head()"
   ]
  },
  {
   "cell_type": "code",
   "execution_count": 98,
   "metadata": {
    "collapsed": true
   },
   "outputs": [],
   "source": [
    "# Now, we don't need the time column anymore\n",
    "df.drop('time', axis=1, inplace=True)"
   ]
  },
  {
   "cell_type": "code",
   "execution_count": 99,
   "metadata": {
    "collapsed": false
   },
   "outputs": [
    {
     "data": {
      "text/html": [
       "<div>\n",
       "<table border=\"1\" class=\"dataframe\">\n",
       "  <thead>\n",
       "    <tr style=\"text-align: right;\">\n",
       "      <th></th>\n",
       "      <th>channel</th>\n",
       "      <th>snr</th>\n",
       "      <th>rssi</th>\n",
       "      <th>freq_error</th>\n",
       "      <th>bytes</th>\n",
       "      <th>packet_idx</th>\n",
       "      <th>lora_mac</th>\n",
       "      <th>temperature</th>\n",
       "      <th>humidity</th>\n",
       "      <th>station_name</th>\n",
       "    </tr>\n",
       "    <tr>\n",
       "      <th>time</th>\n",
       "      <th></th>\n",
       "      <th></th>\n",
       "      <th></th>\n",
       "      <th></th>\n",
       "      <th></th>\n",
       "      <th></th>\n",
       "      <th></th>\n",
       "      <th></th>\n",
       "      <th></th>\n",
       "      <th></th>\n",
       "    </tr>\n",
       "  </thead>\n",
       "  <tbody>\n",
       "    <tr>\n",
       "      <th>2017-08-07 15:59:01</th>\n",
       "      <td>1</td>\n",
       "      <td>11</td>\n",
       "      <td>-67</td>\n",
       "      <td>19.9</td>\n",
       "      <td>50</td>\n",
       "      <td>7</td>\n",
       "      <td>70b3d5499904775c</td>\n",
       "      <td>25.10</td>\n",
       "      <td>65.1</td>\n",
       "      <td>Monitoring station A</td>\n",
       "    </tr>\n",
       "    <tr>\n",
       "      <th>2017-08-07 15:59:04</th>\n",
       "      <td>1</td>\n",
       "      <td>12</td>\n",
       "      <td>-64</td>\n",
       "      <td>-2.0</td>\n",
       "      <td>50</td>\n",
       "      <td>8</td>\n",
       "      <td>70b3d5499904775c</td>\n",
       "      <td>25.13</td>\n",
       "      <td>65.0</td>\n",
       "      <td>Monitoring station A</td>\n",
       "    </tr>\n",
       "    <tr>\n",
       "      <th>2017-08-07 15:59:07</th>\n",
       "      <td>1</td>\n",
       "      <td>12</td>\n",
       "      <td>-68</td>\n",
       "      <td>0.2</td>\n",
       "      <td>50</td>\n",
       "      <td>9</td>\n",
       "      <td>70b3d5499904775c</td>\n",
       "      <td>25.19</td>\n",
       "      <td>64.8</td>\n",
       "      <td>Monitoring station A</td>\n",
       "    </tr>\n",
       "  </tbody>\n",
       "</table>\n",
       "</div>"
      ],
      "text/plain": [
       "                     channel  snr  rssi  freq_error  bytes  packet_idx  \\\n",
       "time                                                                     \n",
       "2017-08-07 15:59:01        1   11   -67        19.9     50           7   \n",
       "2017-08-07 15:59:04        1   12   -64        -2.0     50           8   \n",
       "2017-08-07 15:59:07        1   12   -68         0.2     50           9   \n",
       "\n",
       "                             lora_mac  temperature  humidity  \\\n",
       "time                                                           \n",
       "2017-08-07 15:59:01  70b3d5499904775c        25.10      65.1   \n",
       "2017-08-07 15:59:04  70b3d5499904775c        25.13      65.0   \n",
       "2017-08-07 15:59:07  70b3d5499904775c        25.19      64.8   \n",
       "\n",
       "                             station_name  \n",
       "time                                       \n",
       "2017-08-07 15:59:01  Monitoring station A  \n",
       "2017-08-07 15:59:04  Monitoring station A  \n",
       "2017-08-07 15:59:07  Monitoring station A  "
      ]
     },
     "execution_count": 99,
     "metadata": {},
     "output_type": "execute_result"
    }
   ],
   "source": [
    "df.head(3)"
   ]
  },
  {
   "cell_type": "markdown",
   "metadata": {},
   "source": [
    "Now, we can carry out easilty **partial time selection**."
   ]
  },
  {
   "cell_type": "code",
   "execution_count": 100,
   "metadata": {
    "collapsed": false
   },
   "outputs": [
    {
     "data": {
      "text/html": [
       "<div>\n",
       "<table border=\"1\" class=\"dataframe\">\n",
       "  <thead>\n",
       "    <tr style=\"text-align: right;\">\n",
       "      <th></th>\n",
       "      <th>channel</th>\n",
       "      <th>snr</th>\n",
       "      <th>rssi</th>\n",
       "      <th>freq_error</th>\n",
       "      <th>bytes</th>\n",
       "      <th>packet_idx</th>\n",
       "      <th>lora_mac</th>\n",
       "      <th>temperature</th>\n",
       "      <th>humidity</th>\n",
       "      <th>station_name</th>\n",
       "    </tr>\n",
       "    <tr>\n",
       "      <th>time</th>\n",
       "      <th></th>\n",
       "      <th></th>\n",
       "      <th></th>\n",
       "      <th></th>\n",
       "      <th></th>\n",
       "      <th></th>\n",
       "      <th></th>\n",
       "      <th></th>\n",
       "      <th></th>\n",
       "      <th></th>\n",
       "    </tr>\n",
       "  </thead>\n",
       "  <tbody>\n",
       "    <tr>\n",
       "      <th>2017-08-07 15:59:01</th>\n",
       "      <td>1</td>\n",
       "      <td>11</td>\n",
       "      <td>-67</td>\n",
       "      <td>19.9</td>\n",
       "      <td>50</td>\n",
       "      <td>7</td>\n",
       "      <td>70b3d5499904775c</td>\n",
       "      <td>25.10</td>\n",
       "      <td>65.1</td>\n",
       "      <td>Monitoring station A</td>\n",
       "    </tr>\n",
       "    <tr>\n",
       "      <th>2017-08-07 15:59:04</th>\n",
       "      <td>1</td>\n",
       "      <td>12</td>\n",
       "      <td>-64</td>\n",
       "      <td>-2.0</td>\n",
       "      <td>50</td>\n",
       "      <td>8</td>\n",
       "      <td>70b3d5499904775c</td>\n",
       "      <td>25.13</td>\n",
       "      <td>65.0</td>\n",
       "      <td>Monitoring station A</td>\n",
       "    </tr>\n",
       "    <tr>\n",
       "      <th>2017-08-07 15:59:07</th>\n",
       "      <td>1</td>\n",
       "      <td>12</td>\n",
       "      <td>-68</td>\n",
       "      <td>0.2</td>\n",
       "      <td>50</td>\n",
       "      <td>9</td>\n",
       "      <td>70b3d5499904775c</td>\n",
       "      <td>25.19</td>\n",
       "      <td>64.8</td>\n",
       "      <td>Monitoring station A</td>\n",
       "    </tr>\n",
       "    <tr>\n",
       "      <th>2017-08-07 15:59:14</th>\n",
       "      <td>1</td>\n",
       "      <td>12</td>\n",
       "      <td>-70</td>\n",
       "      <td>0.4</td>\n",
       "      <td>51</td>\n",
       "      <td>11</td>\n",
       "      <td>70b3d5499904775c</td>\n",
       "      <td>25.46</td>\n",
       "      <td>68.4</td>\n",
       "      <td>Monitoring station A</td>\n",
       "    </tr>\n",
       "    <tr>\n",
       "      <th>2017-08-07 15:59:17</th>\n",
       "      <td>1</td>\n",
       "      <td>11</td>\n",
       "      <td>-70</td>\n",
       "      <td>0.4</td>\n",
       "      <td>51</td>\n",
       "      <td>12</td>\n",
       "      <td>70b3d5499904775c</td>\n",
       "      <td>25.60</td>\n",
       "      <td>71.9</td>\n",
       "      <td>Monitoring station A</td>\n",
       "    </tr>\n",
       "    <tr>\n",
       "      <th>2017-08-07 15:59:20</th>\n",
       "      <td>1</td>\n",
       "      <td>11</td>\n",
       "      <td>-70</td>\n",
       "      <td>0.4</td>\n",
       "      <td>51</td>\n",
       "      <td>13</td>\n",
       "      <td>70b3d5499904775c</td>\n",
       "      <td>25.74</td>\n",
       "      <td>75.6</td>\n",
       "      <td>Monitoring station A</td>\n",
       "    </tr>\n",
       "    <tr>\n",
       "      <th>2017-08-07 15:59:23</th>\n",
       "      <td>1</td>\n",
       "      <td>12</td>\n",
       "      <td>-68</td>\n",
       "      <td>0.4</td>\n",
       "      <td>51</td>\n",
       "      <td>14</td>\n",
       "      <td>70b3d5499904775c</td>\n",
       "      <td>25.88</td>\n",
       "      <td>78.8</td>\n",
       "      <td>Monitoring station A</td>\n",
       "    </tr>\n",
       "    <tr>\n",
       "      <th>2017-08-07 15:59:26</th>\n",
       "      <td>1</td>\n",
       "      <td>12</td>\n",
       "      <td>-68</td>\n",
       "      <td>0.3</td>\n",
       "      <td>51</td>\n",
       "      <td>15</td>\n",
       "      <td>70b3d5499904775c</td>\n",
       "      <td>26.03</td>\n",
       "      <td>81.2</td>\n",
       "      <td>Monitoring station A</td>\n",
       "    </tr>\n",
       "    <tr>\n",
       "      <th>2017-08-07 15:59:30</th>\n",
       "      <td>1</td>\n",
       "      <td>12</td>\n",
       "      <td>-67</td>\n",
       "      <td>0.3</td>\n",
       "      <td>51</td>\n",
       "      <td>16</td>\n",
       "      <td>70b3d5499904775c</td>\n",
       "      <td>26.17</td>\n",
       "      <td>83.2</td>\n",
       "      <td>Monitoring station A</td>\n",
       "    </tr>\n",
       "    <tr>\n",
       "      <th>2017-08-07 15:59:33</th>\n",
       "      <td>1</td>\n",
       "      <td>12</td>\n",
       "      <td>-68</td>\n",
       "      <td>0.3</td>\n",
       "      <td>51</td>\n",
       "      <td>17</td>\n",
       "      <td>70b3d5499904775c</td>\n",
       "      <td>26.32</td>\n",
       "      <td>85.2</td>\n",
       "      <td>Monitoring station A</td>\n",
       "    </tr>\n",
       "    <tr>\n",
       "      <th>2017-08-07 15:59:36</th>\n",
       "      <td>1</td>\n",
       "      <td>12</td>\n",
       "      <td>-68</td>\n",
       "      <td>0.3</td>\n",
       "      <td>51</td>\n",
       "      <td>18</td>\n",
       "      <td>70b3d5499904775c</td>\n",
       "      <td>26.46</td>\n",
       "      <td>86.7</td>\n",
       "      <td>Monitoring station A</td>\n",
       "    </tr>\n",
       "    <tr>\n",
       "      <th>2017-08-07 15:59:39</th>\n",
       "      <td>1</td>\n",
       "      <td>12</td>\n",
       "      <td>-68</td>\n",
       "      <td>0.2</td>\n",
       "      <td>51</td>\n",
       "      <td>19</td>\n",
       "      <td>70b3d5499904775c</td>\n",
       "      <td>26.60</td>\n",
       "      <td>87.9</td>\n",
       "      <td>Monitoring station A</td>\n",
       "    </tr>\n",
       "    <tr>\n",
       "      <th>2017-08-07 15:59:42</th>\n",
       "      <td>1</td>\n",
       "      <td>12</td>\n",
       "      <td>-67</td>\n",
       "      <td>0.2</td>\n",
       "      <td>51</td>\n",
       "      <td>20</td>\n",
       "      <td>70b3d5499904775c</td>\n",
       "      <td>26.73</td>\n",
       "      <td>88.2</td>\n",
       "      <td>Monitoring station A</td>\n",
       "    </tr>\n",
       "    <tr>\n",
       "      <th>2017-08-07 15:59:46</th>\n",
       "      <td>1</td>\n",
       "      <td>11</td>\n",
       "      <td>-76</td>\n",
       "      <td>0.2</td>\n",
       "      <td>51</td>\n",
       "      <td>21</td>\n",
       "      <td>70b3d5499904775c</td>\n",
       "      <td>26.87</td>\n",
       "      <td>88.4</td>\n",
       "      <td>Monitoring station A</td>\n",
       "    </tr>\n",
       "    <tr>\n",
       "      <th>2017-08-07 15:59:49</th>\n",
       "      <td>1</td>\n",
       "      <td>12</td>\n",
       "      <td>-74</td>\n",
       "      <td>0.2</td>\n",
       "      <td>51</td>\n",
       "      <td>22</td>\n",
       "      <td>70b3d5499904775c</td>\n",
       "      <td>26.98</td>\n",
       "      <td>88.4</td>\n",
       "      <td>Monitoring station A</td>\n",
       "    </tr>\n",
       "    <tr>\n",
       "      <th>2017-08-07 15:59:52</th>\n",
       "      <td>1</td>\n",
       "      <td>12</td>\n",
       "      <td>-74</td>\n",
       "      <td>0.1</td>\n",
       "      <td>51</td>\n",
       "      <td>23</td>\n",
       "      <td>70b3d5499904775c</td>\n",
       "      <td>27.08</td>\n",
       "      <td>88.2</td>\n",
       "      <td>Monitoring station A</td>\n",
       "    </tr>\n",
       "    <tr>\n",
       "      <th>2017-08-07 15:59:55</th>\n",
       "      <td>1</td>\n",
       "      <td>12</td>\n",
       "      <td>-73</td>\n",
       "      <td>0.1</td>\n",
       "      <td>51</td>\n",
       "      <td>24</td>\n",
       "      <td>70b3d5499904775c</td>\n",
       "      <td>27.20</td>\n",
       "      <td>88.1</td>\n",
       "      <td>Monitoring station A</td>\n",
       "    </tr>\n",
       "    <tr>\n",
       "      <th>2017-08-07 15:59:58</th>\n",
       "      <td>1</td>\n",
       "      <td>12</td>\n",
       "      <td>-72</td>\n",
       "      <td>0.1</td>\n",
       "      <td>51</td>\n",
       "      <td>25</td>\n",
       "      <td>70b3d5499904775c</td>\n",
       "      <td>27.27</td>\n",
       "      <td>87.9</td>\n",
       "      <td>Monitoring station A</td>\n",
       "    </tr>\n",
       "  </tbody>\n",
       "</table>\n",
       "</div>"
      ],
      "text/plain": [
       "                     channel  snr  rssi  freq_error  bytes  packet_idx  \\\n",
       "time                                                                     \n",
       "2017-08-07 15:59:01        1   11   -67        19.9     50           7   \n",
       "2017-08-07 15:59:04        1   12   -64        -2.0     50           8   \n",
       "2017-08-07 15:59:07        1   12   -68         0.2     50           9   \n",
       "2017-08-07 15:59:14        1   12   -70         0.4     51          11   \n",
       "2017-08-07 15:59:17        1   11   -70         0.4     51          12   \n",
       "2017-08-07 15:59:20        1   11   -70         0.4     51          13   \n",
       "2017-08-07 15:59:23        1   12   -68         0.4     51          14   \n",
       "2017-08-07 15:59:26        1   12   -68         0.3     51          15   \n",
       "2017-08-07 15:59:30        1   12   -67         0.3     51          16   \n",
       "2017-08-07 15:59:33        1   12   -68         0.3     51          17   \n",
       "2017-08-07 15:59:36        1   12   -68         0.3     51          18   \n",
       "2017-08-07 15:59:39        1   12   -68         0.2     51          19   \n",
       "2017-08-07 15:59:42        1   12   -67         0.2     51          20   \n",
       "2017-08-07 15:59:46        1   11   -76         0.2     51          21   \n",
       "2017-08-07 15:59:49        1   12   -74         0.2     51          22   \n",
       "2017-08-07 15:59:52        1   12   -74         0.1     51          23   \n",
       "2017-08-07 15:59:55        1   12   -73         0.1     51          24   \n",
       "2017-08-07 15:59:58        1   12   -72         0.1     51          25   \n",
       "\n",
       "                             lora_mac  temperature  humidity  \\\n",
       "time                                                           \n",
       "2017-08-07 15:59:01  70b3d5499904775c        25.10      65.1   \n",
       "2017-08-07 15:59:04  70b3d5499904775c        25.13      65.0   \n",
       "2017-08-07 15:59:07  70b3d5499904775c        25.19      64.8   \n",
       "2017-08-07 15:59:14  70b3d5499904775c        25.46      68.4   \n",
       "2017-08-07 15:59:17  70b3d5499904775c        25.60      71.9   \n",
       "2017-08-07 15:59:20  70b3d5499904775c        25.74      75.6   \n",
       "2017-08-07 15:59:23  70b3d5499904775c        25.88      78.8   \n",
       "2017-08-07 15:59:26  70b3d5499904775c        26.03      81.2   \n",
       "2017-08-07 15:59:30  70b3d5499904775c        26.17      83.2   \n",
       "2017-08-07 15:59:33  70b3d5499904775c        26.32      85.2   \n",
       "2017-08-07 15:59:36  70b3d5499904775c        26.46      86.7   \n",
       "2017-08-07 15:59:39  70b3d5499904775c        26.60      87.9   \n",
       "2017-08-07 15:59:42  70b3d5499904775c        26.73      88.2   \n",
       "2017-08-07 15:59:46  70b3d5499904775c        26.87      88.4   \n",
       "2017-08-07 15:59:49  70b3d5499904775c        26.98      88.4   \n",
       "2017-08-07 15:59:52  70b3d5499904775c        27.08      88.2   \n",
       "2017-08-07 15:59:55  70b3d5499904775c        27.20      88.1   \n",
       "2017-08-07 15:59:58  70b3d5499904775c        27.27      87.9   \n",
       "\n",
       "                             station_name  \n",
       "time                                       \n",
       "2017-08-07 15:59:01  Monitoring station A  \n",
       "2017-08-07 15:59:04  Monitoring station A  \n",
       "2017-08-07 15:59:07  Monitoring station A  \n",
       "2017-08-07 15:59:14  Monitoring station A  \n",
       "2017-08-07 15:59:17  Monitoring station A  \n",
       "2017-08-07 15:59:20  Monitoring station A  \n",
       "2017-08-07 15:59:23  Monitoring station A  \n",
       "2017-08-07 15:59:26  Monitoring station A  \n",
       "2017-08-07 15:59:30  Monitoring station A  \n",
       "2017-08-07 15:59:33  Monitoring station A  \n",
       "2017-08-07 15:59:36  Monitoring station A  \n",
       "2017-08-07 15:59:39  Monitoring station A  \n",
       "2017-08-07 15:59:42  Monitoring station A  \n",
       "2017-08-07 15:59:46  Monitoring station A  \n",
       "2017-08-07 15:59:49  Monitoring station A  \n",
       "2017-08-07 15:59:52  Monitoring station A  \n",
       "2017-08-07 15:59:55  Monitoring station A  \n",
       "2017-08-07 15:59:58  Monitoring station A  "
      ]
     },
     "execution_count": 100,
     "metadata": {},
     "output_type": "execute_result"
    }
   ],
   "source": [
    "# For instance select only measurement done at 15:59\n",
    "df.loc['2017-08-07 15:59']"
   ]
  },
  {
   "cell_type": "markdown",
   "metadata": {},
   "source": [
    "### Selecting by values\n",
    "We want here to select all measurements where temperature is higher then 30 degrees celsius."
   ]
  },
  {
   "cell_type": "code",
   "execution_count": null,
   "metadata": {
    "collapsed": true
   },
   "outputs": [],
   "source": []
  },
  {
   "cell_type": "markdown",
   "metadata": {},
   "source": [
    "## 3. Plotting"
   ]
  },
  {
   "cell_type": "code",
   "execution_count": 101,
   "metadata": {
    "collapsed": false
   },
   "outputs": [
    {
     "data": {
      "text/plain": [
       "<matplotlib.axes._subplots.AxesSubplot at 0x119ab5588>"
      ]
     },
     "execution_count": 101,
     "metadata": {},
     "output_type": "execute_result"
    },
    {
     "data": {
      "image/png": "[encoded data removed]",
      "text/plain": [
       "<matplotlib.figure.Figure at 0x119f2d7b8>"
      ]
     },
     "metadata": {},
     "output_type": "display_data"
    }
   ],
   "source": [
    "# Really can you make it easier?\n",
    "df['temperature'].plot()"
   ]
  },
  {
   "cell_type": "code",
   "execution_count": 102,
   "metadata": {
    "collapsed": false
   },
   "outputs": [
    {
     "data": {
      "text/plain": [
       "[<matplotlib.text.Text at 0x11a1dac88>, <matplotlib.text.Text at 0x11a1b42e8>]"
      ]
     },
     "execution_count": 102,
     "metadata": {},
     "output_type": "execute_result"
    },
    {
     "data": {
      "image/png": "[encoded data removed]",
      "text/plain": [
       "<matplotlib.figure.Figure at 0x11a14e278>"
      ]
     },
     "metadata": {},
     "output_type": "display_data"
    }
   ],
   "source": [
    "# Many options\n",
    "# https://pandas.pydata.org/pandas-docs/stable/generated/pandas.DataFrame.plot.html\n",
    "\n",
    "ax = df['temperature'].plot(lw=1, colormap='Set1', title='Temperature at Monitoring station A')\n",
    "ax.set(xlabel=\"Time\", ylabel=\"Temperature (Celsius)\")"
   ]
  },
  {
   "cell_type": "code",
   "execution_count": 103,
   "metadata": {
    "collapsed": false
   },
   "outputs": [
    {
     "data": {
      "text/plain": [
       "<matplotlib.axes._subplots.AxesSubplot at 0x11a1e3588>"
      ]
     },
     "execution_count": 103,
     "metadata": {},
     "output_type": "execute_result"
    },
    {
     "data": {
      "image/png": "[encoded data removed]",
      "text/plain": [
       "<matplotlib.figure.Figure at 0x11a1532b0>"
      ]
     },
     "metadata": {},
     "output_type": "display_data"
    }
   ],
   "source": [
    "# Look at relationship between humidity and temperature. Interpret???\n",
    "df.plot.scatter('humidity', 'temperature')"
   ]
  }
 ],
 "metadata": {
  "kernelspec": {
   "display_name": "Python [conda root]",
   "language": "python",
   "name": "conda-root-py"
  },
  "language_info": {
   "codemirror_mode": {
    "name": "ipython",
    "version": 3
   },
   "file_extension": ".py",
   "mimetype": "text/x-python",
   "name": "python",
   "nbconvert_exporter": "python",
   "pygments_lexer": "ipython3",
   "version": "3.6.0"
  }
 },
 "nbformat": 4,
 "nbformat_minor": 2
}
