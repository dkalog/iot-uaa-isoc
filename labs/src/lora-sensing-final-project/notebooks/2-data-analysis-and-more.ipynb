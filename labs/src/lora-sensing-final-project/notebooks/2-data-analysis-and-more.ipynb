{
 "cells": [
  {
   "cell_type": "markdown",
   "metadata": {},
   "source": [
    "## II. DATA ANALYSIS AND MORE\n",
    "Based on knowledge built in previous notebook `1-introduction-to-pandas.md`, you are asked to fetch data from the API, analyse the data and eventually propose a solution to notify users when a measurement exceeds a certain threshold value."
   ]
  },
  {
   "cell_type": "code",
   "execution_count": 1,
   "metadata": {
    "collapsed": true
   },
   "outputs": [],
   "source": [
    "import matplotlib.pyplot as plt\n",
    "import datetime\n",
    "import json\n",
    "import requests\n",
    "import pandas as pd\n",
    "\n",
    "# This ensures visualizations are plotted inside the notebook\n",
    "%matplotlib inline\n",
    "\n",
    "plt.rcParams['figure.figsize'] = (16, 8)"
   ]
  },
  {
   "cell_type": "markdown",
   "metadata": {},
   "source": [
    "## 1. Getting data from the API\n",
    "Be sure to have started your Lopy nodes, LoRa gateway and Flask API as indicated in lab's tutorial.\n",
    "\n",
    "This is now your turn to try to load the data from the API. See below some suggestions:"
   ]
  },
  {
   "cell_type": "code",
   "execution_count": 6,
   "metadata": {
    "collapsed": false
   },
   "outputs": [],
   "source": [
    "# 1. Pandas provide in its `read_xxx` functions family one dedicated to JSON. Try to identify it.\n",
    "\n",
    "# 2. You then need to pass the url to fetch data from.\n",
    "#    The url should follow this pattern:\n",
    "#      'http://raspi_ip_adress:5000/gateway/api?nb_measurements=your_number&station_name=your_station_name' "
   ]
  },
  {
   "cell_type": "markdown",
   "metadata": {},
   "source": [
    "## 2. Data cleaning and transformation"
   ]
  },
  {
   "cell_type": "code",
   "execution_count": null,
   "metadata": {
    "collapsed": true
   },
   "outputs": [],
   "source": [
    "# As done in previous notebook, add column names, time index"
   ]
  },
  {
   "cell_type": "markdown",
   "metadata": {},
   "source": [
    "## 3. Data visualization"
   ]
  },
  {
   "cell_type": "code",
   "execution_count": 7,
   "metadata": {
    "collapsed": true
   },
   "outputs": [],
   "source": [
    "# 1. Visualize the temperature time series of one station\n",
    "\n",
    "# 2. Visualize the temperature time series of all stations\n",
    "#      - Tips: you might need to rotate/pivot your dataframe to make it more convenient"
   ]
  },
  {
   "cell_type": "markdown",
   "metadata": {},
   "source": [
    "## 4. Notification system"
   ]
  },
  {
   "cell_type": "code",
   "execution_count": 8,
   "metadata": {
    "collapsed": true
   },
   "outputs": [],
   "source": [
    "# How would you implement a notification system such as that when:\n",
    "#    - temperature exceeds a threshold values\n",
    "#    - a notification/sms/... is sent to an end user\n",
    "\n",
    "# You might consider updating the Flask API code itself"
   ]
  }
 ],
 "metadata": {
  "kernelspec": {
   "display_name": "Python [conda root]",
   "language": "python",
   "name": "conda-root-py"
  },
  "language_info": {
   "codemirror_mode": {
    "name": "ipython",
    "version": 3
   },
   "file_extension": ".py",
   "mimetype": "text/x-python",
   "name": "python",
   "nbconvert_exporter": "python",
   "pygments_lexer": "ipython3",
   "version": "3.6.0"
  }
 },
 "nbformat": 4,
 "nbformat_minor": 2
}
